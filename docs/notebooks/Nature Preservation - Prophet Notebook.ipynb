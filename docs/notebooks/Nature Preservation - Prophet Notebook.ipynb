{
  "nbformat": 4,
  "nbformat_minor": 0,
  "metadata": {
    "colab": {
      "name": "Nature Preservation - Prophet Notebook",
      "provenance": [],
      "collapsed_sections": []
    },
    "kernelspec": {
      "name": "python3",
      "display_name": "Python 3"
    },
    "language_info": {
      "name": "python"
    },
    "widgets": {
      "application/vnd.jupyter.widget-state+json": {
        "3950b1eb194f40549eec96ee95423a0c": {
          "model_module": "@jupyter-widgets/controls",
          "model_name": "HBoxModel",
          "model_module_version": "1.5.0",
          "state": {
            "_dom_classes": [],
            "_model_module": "@jupyter-widgets/controls",
            "_model_module_version": "1.5.0",
            "_model_name": "HBoxModel",
            "_view_count": null,
            "_view_module": "@jupyter-widgets/controls",
            "_view_module_version": "1.5.0",
            "_view_name": "HBoxView",
            "box_style": "",
            "children": [
              "IPY_MODEL_dd418288b00e40eb9a80f83131836b8f",
              "IPY_MODEL_79f2da307d464c53842b1665e3cc06b4",
              "IPY_MODEL_c8183500592c48e3897972b5265b28a3"
            ],
            "layout": "IPY_MODEL_a0b48443c1d04155b60815829e4730be"
          }
        },
        "dd418288b00e40eb9a80f83131836b8f": {
          "model_module": "@jupyter-widgets/controls",
          "model_name": "HTMLModel",
          "model_module_version": "1.5.0",
          "state": {
            "_dom_classes": [],
            "_model_module": "@jupyter-widgets/controls",
            "_model_module_version": "1.5.0",
            "_model_name": "HTMLModel",
            "_view_count": null,
            "_view_module": "@jupyter-widgets/controls",
            "_view_module_version": "1.5.0",
            "_view_name": "HTMLView",
            "description": "",
            "description_tooltip": null,
            "layout": "IPY_MODEL_53c8fb4110b44ac5ba7d6989a0f8b58e",
            "placeholder": "​",
            "style": "IPY_MODEL_5433ee08f5194263b933b722f34c3afc",
            "value": "100%"
          }
        },
        "79f2da307d464c53842b1665e3cc06b4": {
          "model_module": "@jupyter-widgets/controls",
          "model_name": "FloatProgressModel",
          "model_module_version": "1.5.0",
          "state": {
            "_dom_classes": [],
            "_model_module": "@jupyter-widgets/controls",
            "_model_module_version": "1.5.0",
            "_model_name": "FloatProgressModel",
            "_view_count": null,
            "_view_module": "@jupyter-widgets/controls",
            "_view_module_version": "1.5.0",
            "_view_name": "ProgressView",
            "bar_style": "success",
            "description": "",
            "description_tooltip": null,
            "layout": "IPY_MODEL_579f9208afc3432b85bfd2d19ea12b67",
            "max": 1,
            "min": 0,
            "orientation": "horizontal",
            "style": "IPY_MODEL_08661f5a768c44e0b4551c8e863584ef",
            "value": 1
          }
        },
        "c8183500592c48e3897972b5265b28a3": {
          "model_module": "@jupyter-widgets/controls",
          "model_name": "HTMLModel",
          "model_module_version": "1.5.0",
          "state": {
            "_dom_classes": [],
            "_model_module": "@jupyter-widgets/controls",
            "_model_module_version": "1.5.0",
            "_model_name": "HTMLModel",
            "_view_count": null,
            "_view_module": "@jupyter-widgets/controls",
            "_view_module_version": "1.5.0",
            "_view_name": "HTMLView",
            "description": "",
            "description_tooltip": null,
            "layout": "IPY_MODEL_c5fa90527c044b43845e5ccc02fd3e1c",
            "placeholder": "​",
            "style": "IPY_MODEL_74d8740f75b04ebab504fbaa1386915d",
            "value": " 1/1 [00:01&lt;00:00,  1.89s/it]"
          }
        },
        "a0b48443c1d04155b60815829e4730be": {
          "model_module": "@jupyter-widgets/base",
          "model_name": "LayoutModel",
          "model_module_version": "1.2.0",
          "state": {
            "_model_module": "@jupyter-widgets/base",
            "_model_module_version": "1.2.0",
            "_model_name": "LayoutModel",
            "_view_count": null,
            "_view_module": "@jupyter-widgets/base",
            "_view_module_version": "1.2.0",
            "_view_name": "LayoutView",
            "align_content": null,
            "align_items": null,
            "align_self": null,
            "border": null,
            "bottom": null,
            "display": null,
            "flex": null,
            "flex_flow": null,
            "grid_area": null,
            "grid_auto_columns": null,
            "grid_auto_flow": null,
            "grid_auto_rows": null,
            "grid_column": null,
            "grid_gap": null,
            "grid_row": null,
            "grid_template_areas": null,
            "grid_template_columns": null,
            "grid_template_rows": null,
            "height": null,
            "justify_content": null,
            "justify_items": null,
            "left": null,
            "margin": null,
            "max_height": null,
            "max_width": null,
            "min_height": null,
            "min_width": null,
            "object_fit": null,
            "object_position": null,
            "order": null,
            "overflow": null,
            "overflow_x": null,
            "overflow_y": null,
            "padding": null,
            "right": null,
            "top": null,
            "visibility": null,
            "width": null
          }
        },
        "53c8fb4110b44ac5ba7d6989a0f8b58e": {
          "model_module": "@jupyter-widgets/base",
          "model_name": "LayoutModel",
          "model_module_version": "1.2.0",
          "state": {
            "_model_module": "@jupyter-widgets/base",
            "_model_module_version": "1.2.0",
            "_model_name": "LayoutModel",
            "_view_count": null,
            "_view_module": "@jupyter-widgets/base",
            "_view_module_version": "1.2.0",
            "_view_name": "LayoutView",
            "align_content": null,
            "align_items": null,
            "align_self": null,
            "border": null,
            "bottom": null,
            "display": null,
            "flex": null,
            "flex_flow": null,
            "grid_area": null,
            "grid_auto_columns": null,
            "grid_auto_flow": null,
            "grid_auto_rows": null,
            "grid_column": null,
            "grid_gap": null,
            "grid_row": null,
            "grid_template_areas": null,
            "grid_template_columns": null,
            "grid_template_rows": null,
            "height": null,
            "justify_content": null,
            "justify_items": null,
            "left": null,
            "margin": null,
            "max_height": null,
            "max_width": null,
            "min_height": null,
            "min_width": null,
            "object_fit": null,
            "object_position": null,
            "order": null,
            "overflow": null,
            "overflow_x": null,
            "overflow_y": null,
            "padding": null,
            "right": null,
            "top": null,
            "visibility": null,
            "width": null
          }
        },
        "5433ee08f5194263b933b722f34c3afc": {
          "model_module": "@jupyter-widgets/controls",
          "model_name": "DescriptionStyleModel",
          "model_module_version": "1.5.0",
          "state": {
            "_model_module": "@jupyter-widgets/controls",
            "_model_module_version": "1.5.0",
            "_model_name": "DescriptionStyleModel",
            "_view_count": null,
            "_view_module": "@jupyter-widgets/base",
            "_view_module_version": "1.2.0",
            "_view_name": "StyleView",
            "description_width": ""
          }
        },
        "579f9208afc3432b85bfd2d19ea12b67": {
          "model_module": "@jupyter-widgets/base",
          "model_name": "LayoutModel",
          "model_module_version": "1.2.0",
          "state": {
            "_model_module": "@jupyter-widgets/base",
            "_model_module_version": "1.2.0",
            "_model_name": "LayoutModel",
            "_view_count": null,
            "_view_module": "@jupyter-widgets/base",
            "_view_module_version": "1.2.0",
            "_view_name": "LayoutView",
            "align_content": null,
            "align_items": null,
            "align_self": null,
            "border": null,
            "bottom": null,
            "display": null,
            "flex": null,
            "flex_flow": null,
            "grid_area": null,
            "grid_auto_columns": null,
            "grid_auto_flow": null,
            "grid_auto_rows": null,
            "grid_column": null,
            "grid_gap": null,
            "grid_row": null,
            "grid_template_areas": null,
            "grid_template_columns": null,
            "grid_template_rows": null,
            "height": null,
            "justify_content": null,
            "justify_items": null,
            "left": null,
            "margin": null,
            "max_height": null,
            "max_width": null,
            "min_height": null,
            "min_width": null,
            "object_fit": null,
            "object_position": null,
            "order": null,
            "overflow": null,
            "overflow_x": null,
            "overflow_y": null,
            "padding": null,
            "right": null,
            "top": null,
            "visibility": null,
            "width": null
          }
        },
        "08661f5a768c44e0b4551c8e863584ef": {
          "model_module": "@jupyter-widgets/controls",
          "model_name": "ProgressStyleModel",
          "model_module_version": "1.5.0",
          "state": {
            "_model_module": "@jupyter-widgets/controls",
            "_model_module_version": "1.5.0",
            "_model_name": "ProgressStyleModel",
            "_view_count": null,
            "_view_module": "@jupyter-widgets/base",
            "_view_module_version": "1.2.0",
            "_view_name": "StyleView",
            "bar_color": null,
            "description_width": ""
          }
        },
        "c5fa90527c044b43845e5ccc02fd3e1c": {
          "model_module": "@jupyter-widgets/base",
          "model_name": "LayoutModel",
          "model_module_version": "1.2.0",
          "state": {
            "_model_module": "@jupyter-widgets/base",
            "_model_module_version": "1.2.0",
            "_model_name": "LayoutModel",
            "_view_count": null,
            "_view_module": "@jupyter-widgets/base",
            "_view_module_version": "1.2.0",
            "_view_name": "LayoutView",
            "align_content": null,
            "align_items": null,
            "align_self": null,
            "border": null,
            "bottom": null,
            "display": null,
            "flex": null,
            "flex_flow": null,
            "grid_area": null,
            "grid_auto_columns": null,
            "grid_auto_flow": null,
            "grid_auto_rows": null,
            "grid_column": null,
            "grid_gap": null,
            "grid_row": null,
            "grid_template_areas": null,
            "grid_template_columns": null,
            "grid_template_rows": null,
            "height": null,
            "justify_content": null,
            "justify_items": null,
            "left": null,
            "margin": null,
            "max_height": null,
            "max_width": null,
            "min_height": null,
            "min_width": null,
            "object_fit": null,
            "object_position": null,
            "order": null,
            "overflow": null,
            "overflow_x": null,
            "overflow_y": null,
            "padding": null,
            "right": null,
            "top": null,
            "visibility": null,
            "width": null
          }
        },
        "74d8740f75b04ebab504fbaa1386915d": {
          "model_module": "@jupyter-widgets/controls",
          "model_name": "DescriptionStyleModel",
          "model_module_version": "1.5.0",
          "state": {
            "_model_module": "@jupyter-widgets/controls",
            "_model_module_version": "1.5.0",
            "_model_name": "DescriptionStyleModel",
            "_view_count": null,
            "_view_module": "@jupyter-widgets/base",
            "_view_module_version": "1.2.0",
            "_view_name": "StyleView",
            "description_width": ""
          }
        }
      }
    }
  },
  "cells": [
    {
      "cell_type": "code",
      "execution_count": null,
      "metadata": {
        "colab": {
          "base_uri": "https://localhost:8080/"
        },
        "id": "6yP4tHRCFNhN",
        "outputId": "9983172f-7c15-463f-8fc7-fa4d44adbbe0"
      },
      "outputs": [
        {
          "output_type": "stream",
          "name": "stdout",
          "text": [
            "Looking in indexes: https://pypi.org/simple, https://us-python.pkg.dev/colab-wheels/public/simple/\n",
            "Collecting prophet\n",
            "  Downloading prophet-1.0.1.tar.gz (65 kB)\n",
            "\u001b[K     |████████████████████████████████| 65 kB 3.7 MB/s \n",
            "\u001b[?25hRequirement already satisfied: Cython>=0.22 in /usr/local/lib/python3.7/dist-packages (from prophet) (0.29.30)\n",
            "Collecting cmdstanpy==0.9.68\n",
            "  Downloading cmdstanpy-0.9.68-py3-none-any.whl (49 kB)\n",
            "\u001b[K     |████████████████████████████████| 49 kB 6.1 MB/s \n",
            "\u001b[?25hRequirement already satisfied: pystan~=2.19.1.1 in /usr/local/lib/python3.7/dist-packages (from prophet) (2.19.1.1)\n",
            "Requirement already satisfied: numpy>=1.15.4 in /usr/local/lib/python3.7/dist-packages (from prophet) (1.21.6)\n",
            "Requirement already satisfied: pandas>=1.0.4 in /usr/local/lib/python3.7/dist-packages (from prophet) (1.3.5)\n",
            "Requirement already satisfied: matplotlib>=2.0.0 in /usr/local/lib/python3.7/dist-packages (from prophet) (3.2.2)\n",
            "Requirement already satisfied: LunarCalendar>=0.0.9 in /usr/local/lib/python3.7/dist-packages (from prophet) (0.0.9)\n",
            "Requirement already satisfied: convertdate>=2.1.2 in /usr/local/lib/python3.7/dist-packages (from prophet) (2.4.0)\n",
            "Requirement already satisfied: holidays>=0.10.2 in /usr/local/lib/python3.7/dist-packages (from prophet) (0.10.5.2)\n",
            "Requirement already satisfied: setuptools-git>=1.2 in /usr/local/lib/python3.7/dist-packages (from prophet) (1.2)\n",
            "Requirement already satisfied: python-dateutil>=2.8.0 in /usr/local/lib/python3.7/dist-packages (from prophet) (2.8.2)\n",
            "Requirement already satisfied: tqdm>=4.36.1 in /usr/local/lib/python3.7/dist-packages (from prophet) (4.64.0)\n",
            "Collecting ujson\n",
            "  Downloading ujson-5.3.0-cp37-cp37m-manylinux_2_17_x86_64.manylinux2014_x86_64.whl (45 kB)\n",
            "\u001b[K     |████████████████████████████████| 45 kB 3.0 MB/s \n",
            "\u001b[?25hRequirement already satisfied: pymeeus<=1,>=0.3.13 in /usr/local/lib/python3.7/dist-packages (from convertdate>=2.1.2->prophet) (0.5.11)\n",
            "Requirement already satisfied: six in /usr/local/lib/python3.7/dist-packages (from holidays>=0.10.2->prophet) (1.15.0)\n",
            "Requirement already satisfied: korean-lunar-calendar in /usr/local/lib/python3.7/dist-packages (from holidays>=0.10.2->prophet) (0.2.1)\n",
            "Requirement already satisfied: hijri-converter in /usr/local/lib/python3.7/dist-packages (from holidays>=0.10.2->prophet) (2.2.4)\n",
            "Requirement already satisfied: ephem>=3.7.5.3 in /usr/local/lib/python3.7/dist-packages (from LunarCalendar>=0.0.9->prophet) (4.1.3)\n",
            "Requirement already satisfied: pytz in /usr/local/lib/python3.7/dist-packages (from LunarCalendar>=0.0.9->prophet) (2022.1)\n",
            "Requirement already satisfied: cycler>=0.10 in /usr/local/lib/python3.7/dist-packages (from matplotlib>=2.0.0->prophet) (0.11.0)\n",
            "Requirement already satisfied: pyparsing!=2.0.4,!=2.1.2,!=2.1.6,>=2.0.1 in /usr/local/lib/python3.7/dist-packages (from matplotlib>=2.0.0->prophet) (3.0.9)\n",
            "Requirement already satisfied: kiwisolver>=1.0.1 in /usr/local/lib/python3.7/dist-packages (from matplotlib>=2.0.0->prophet) (1.4.2)\n",
            "Requirement already satisfied: typing-extensions in /usr/local/lib/python3.7/dist-packages (from kiwisolver>=1.0.1->matplotlib>=2.0.0->prophet) (4.2.0)\n",
            "Building wheels for collected packages: prophet\n",
            "  Building wheel for prophet (setup.py) ... \u001b[?25l\u001b[?25hcanceled\n",
            "\u001b[31mERROR: Operation cancelled by user\u001b[0m\n"
          ]
        }
      ],
      "source": [
        "!pip install prophet"
      ]
    },
    {
      "cell_type": "markdown",
      "source": [
        "# Bring in the Required Libraries\n",
        "\n",
        "These libraries are used for the following purposes:\n",
        "\n",
        "1. `pandas` is used for managing datasets.\n",
        "2. `matplotlib.pyplot` is used for plotting graphs.\n",
        "3. `numpy` is used for performing matrix and linear algebra operations.\n",
        "4. `datetime` is used to work with dates in the dataset.\n",
        "5. `Prophet` from `prophet` is used for performing the time-series analysis.\n",
        "6. `plot_forecast_component` from `prophet.plot` is used for plotting the trend.\n",
        "7. `cross_validation` from `prophet.diagnostics` is used for performing cross validation on the time-series data.\n",
        "8. `performance_metrics` from `prophet.diagnostics` is used to calculate various formal metrics for measuring model performance.\n",
        "9. `plot_cross_validation_metric` from `prophet.plot` is used to plot the various formal performance metrics of the model."
      ],
      "metadata": {
        "id": "Fgv7xvcOTp9h"
      }
    },
    {
      "cell_type": "code",
      "source": [
        "import pandas as pd\n",
        "import matplotlib.pyplot as plt\n",
        "import numpy as np\n",
        "import datetime\n",
        "from prophet import Prophet\n",
        "from prophet.plot import plot_forecast_component\n",
        "from prophet.diagnostics import cross_validation\n",
        "from prophet.diagnostics import performance_metrics\n",
        "from prophet.plot import plot_cross_validation_metric"
      ],
      "metadata": {
        "id": "2jIopL6rFW3M"
      },
      "execution_count": null,
      "outputs": []
    },
    {
      "cell_type": "markdown",
      "source": [
        "# Load the Data"
      ],
      "metadata": {
        "id": "MGTUrIcnVifk"
      }
    },
    {
      "cell_type": "code",
      "source": [
        "df = pd.read_csv(\"inference_csv1.tmp.csv\")\n",
        "df.head()"
      ],
      "metadata": {
        "colab": {
          "base_uri": "https://localhost:8080/",
          "height": 206
        },
        "id": "MT5VmXmBF7VS",
        "outputId": "7eaa2275-3842-4879-e607-a0d88cbd0815"
      },
      "execution_count": null,
      "outputs": [
        {
          "output_type": "execute_result",
          "data": {
            "text/plain": [
              "        ds        y\n",
              "0  2016-01  1096548\n",
              "1  2016-10  1292172\n",
              "2  2016-11  1243075\n",
              "3  2016-12  1178370\n",
              "4  2017-01  1110016"
            ],
            "text/html": [
              "\n",
              "  <div id=\"df-e51357ad-7683-4db8-9ca5-40d3f8b82f53\">\n",
              "    <div class=\"colab-df-container\">\n",
              "      <div>\n",
              "<style scoped>\n",
              "    .dataframe tbody tr th:only-of-type {\n",
              "        vertical-align: middle;\n",
              "    }\n",
              "\n",
              "    .dataframe tbody tr th {\n",
              "        vertical-align: top;\n",
              "    }\n",
              "\n",
              "    .dataframe thead th {\n",
              "        text-align: right;\n",
              "    }\n",
              "</style>\n",
              "<table border=\"1\" class=\"dataframe\">\n",
              "  <thead>\n",
              "    <tr style=\"text-align: right;\">\n",
              "      <th></th>\n",
              "      <th>ds</th>\n",
              "      <th>y</th>\n",
              "    </tr>\n",
              "  </thead>\n",
              "  <tbody>\n",
              "    <tr>\n",
              "      <th>0</th>\n",
              "      <td>2016-01</td>\n",
              "      <td>1096548</td>\n",
              "    </tr>\n",
              "    <tr>\n",
              "      <th>1</th>\n",
              "      <td>2016-10</td>\n",
              "      <td>1292172</td>\n",
              "    </tr>\n",
              "    <tr>\n",
              "      <th>2</th>\n",
              "      <td>2016-11</td>\n",
              "      <td>1243075</td>\n",
              "    </tr>\n",
              "    <tr>\n",
              "      <th>3</th>\n",
              "      <td>2016-12</td>\n",
              "      <td>1178370</td>\n",
              "    </tr>\n",
              "    <tr>\n",
              "      <th>4</th>\n",
              "      <td>2017-01</td>\n",
              "      <td>1110016</td>\n",
              "    </tr>\n",
              "  </tbody>\n",
              "</table>\n",
              "</div>\n",
              "      <button class=\"colab-df-convert\" onclick=\"convertToInteractive('df-e51357ad-7683-4db8-9ca5-40d3f8b82f53')\"\n",
              "              title=\"Convert this dataframe to an interactive table.\"\n",
              "              style=\"display:none;\">\n",
              "        \n",
              "  <svg xmlns=\"http://www.w3.org/2000/svg\" height=\"24px\"viewBox=\"0 0 24 24\"\n",
              "       width=\"24px\">\n",
              "    <path d=\"M0 0h24v24H0V0z\" fill=\"none\"/>\n",
              "    <path d=\"M18.56 5.44l.94 2.06.94-2.06 2.06-.94-2.06-.94-.94-2.06-.94 2.06-2.06.94zm-11 1L8.5 8.5l.94-2.06 2.06-.94-2.06-.94L8.5 2.5l-.94 2.06-2.06.94zm10 10l.94 2.06.94-2.06 2.06-.94-2.06-.94-.94-2.06-.94 2.06-2.06.94z\"/><path d=\"M17.41 7.96l-1.37-1.37c-.4-.4-.92-.59-1.43-.59-.52 0-1.04.2-1.43.59L10.3 9.45l-7.72 7.72c-.78.78-.78 2.05 0 2.83L4 21.41c.39.39.9.59 1.41.59.51 0 1.02-.2 1.41-.59l7.78-7.78 2.81-2.81c.8-.78.8-2.07 0-2.86zM5.41 20L4 18.59l7.72-7.72 1.47 1.35L5.41 20z\"/>\n",
              "  </svg>\n",
              "      </button>\n",
              "      \n",
              "  <style>\n",
              "    .colab-df-container {\n",
              "      display:flex;\n",
              "      flex-wrap:wrap;\n",
              "      gap: 12px;\n",
              "    }\n",
              "\n",
              "    .colab-df-convert {\n",
              "      background-color: #E8F0FE;\n",
              "      border: none;\n",
              "      border-radius: 50%;\n",
              "      cursor: pointer;\n",
              "      display: none;\n",
              "      fill: #1967D2;\n",
              "      height: 32px;\n",
              "      padding: 0 0 0 0;\n",
              "      width: 32px;\n",
              "    }\n",
              "\n",
              "    .colab-df-convert:hover {\n",
              "      background-color: #E2EBFA;\n",
              "      box-shadow: 0px 1px 2px rgba(60, 64, 67, 0.3), 0px 1px 3px 1px rgba(60, 64, 67, 0.15);\n",
              "      fill: #174EA6;\n",
              "    }\n",
              "\n",
              "    [theme=dark] .colab-df-convert {\n",
              "      background-color: #3B4455;\n",
              "      fill: #D2E3FC;\n",
              "    }\n",
              "\n",
              "    [theme=dark] .colab-df-convert:hover {\n",
              "      background-color: #434B5C;\n",
              "      box-shadow: 0px 1px 3px 1px rgba(0, 0, 0, 0.15);\n",
              "      filter: drop-shadow(0px 1px 2px rgba(0, 0, 0, 0.3));\n",
              "      fill: #FFFFFF;\n",
              "    }\n",
              "  </style>\n",
              "\n",
              "      <script>\n",
              "        const buttonEl =\n",
              "          document.querySelector('#df-e51357ad-7683-4db8-9ca5-40d3f8b82f53 button.colab-df-convert');\n",
              "        buttonEl.style.display =\n",
              "          google.colab.kernel.accessAllowed ? 'block' : 'none';\n",
              "\n",
              "        async function convertToInteractive(key) {\n",
              "          const element = document.querySelector('#df-e51357ad-7683-4db8-9ca5-40d3f8b82f53');\n",
              "          const dataTable =\n",
              "            await google.colab.kernel.invokeFunction('convertToInteractive',\n",
              "                                                     [key], {});\n",
              "          if (!dataTable) return;\n",
              "\n",
              "          const docLinkHtml = 'Like what you see? Visit the ' +\n",
              "            '<a target=\"_blank\" href=https://colab.research.google.com/notebooks/data_table.ipynb>data table notebook</a>'\n",
              "            + ' to learn more about interactive tables.';\n",
              "          element.innerHTML = '';\n",
              "          dataTable['output_type'] = 'display_data';\n",
              "          await google.colab.output.renderOutput(dataTable, element);\n",
              "          const docLink = document.createElement('div');\n",
              "          docLink.innerHTML = docLinkHtml;\n",
              "          element.appendChild(docLink);\n",
              "        }\n",
              "      </script>\n",
              "    </div>\n",
              "  </div>\n",
              "  "
            ]
          },
          "metadata": {},
          "execution_count": 3
        }
      ]
    },
    {
      "cell_type": "markdown",
      "source": [
        "# Create the Model"
      ],
      "metadata": {
        "id": "Mm0dbxKfVuqc"
      }
    },
    {
      "cell_type": "code",
      "source": [
        "model = Prophet()"
      ],
      "metadata": {
        "id": "F7Ut-gvYGBT_"
      },
      "execution_count": null,
      "outputs": []
    },
    {
      "cell_type": "markdown",
      "source": [
        "# Fit the Model\n",
        "\n",
        "From here, we can see that Prophet has already selected the *yearly* trend and disabled the *monthly* and *daily* trends as expected for this dataset."
      ],
      "metadata": {
        "id": "GKaNS2txVwlS"
      }
    },
    {
      "cell_type": "code",
      "source": [
        "model.fit(df)"
      ],
      "metadata": {
        "id": "7Cd1Hj0rWjbh"
      },
      "execution_count": null,
      "outputs": []
    },
    {
      "cell_type": "markdown",
      "source": [
        "# Predict on Input Dataset\n",
        "\n",
        "Here, we perform prediction on the input dataset to see how well the model fits the input dataset."
      ],
      "metadata": {
        "id": "o24yq1qvWeA7"
      }
    },
    {
      "cell_type": "code",
      "source": [
        "prediction = model.predict(df)"
      ],
      "metadata": {
        "id": "5z83SMpRLnAt"
      },
      "execution_count": null,
      "outputs": []
    },
    {
      "cell_type": "markdown",
      "source": [
        "Here,\n",
        "\n",
        "* `yhat` refers to the predicted output for each input point.\n",
        "* `yhat_lower` and `yhat_upper` refers to the range in which yhat will be present even if the actual prediction is wrong. This range is known as the **Confidence Interval**.\n",
        "* `trend` refers to how the data is changing gradually over years.\n",
        "* `additive_terms` refers to the value which must be added to `trend` to get `yhat`."
      ],
      "metadata": {
        "id": "4V4pvtqnXpIl"
      }
    },
    {
      "cell_type": "code",
      "source": [
        "prediction.tail(12)[['ds', 'yhat', 'yhat_lower', 'yhat_upper', 'trend', 'additive_terms']]"
      ],
      "metadata": {
        "colab": {
          "base_uri": "https://localhost:8080/",
          "height": 426
        },
        "id": "yuDACIU6PyY6",
        "outputId": "a8fcac82-3bf1-4159-df9a-c94decbb4f65"
      },
      "execution_count": null,
      "outputs": [
        {
          "output_type": "execute_result",
          "data": {
            "text/plain": [
              "           ds          yhat    yhat_lower    yhat_upper         trend  \\\n",
              "29 2020-10-01  1.280097e+06  1.052063e+06  1.515058e+06  61261.917848   \n",
              "30 2020-11-01  1.242796e+06  1.011789e+06  1.480003e+06  59989.314917   \n",
              "31 2020-12-01  1.166637e+06  9.334683e+05  1.411061e+06  58757.763715   \n",
              "32 2021-01-01  6.103729e+05  3.727859e+05  8.479296e+05  57485.160823   \n",
              "33 2021-02-01  7.027499e+05  4.681870e+05  9.411264e+05  56212.557931   \n",
              "34 2021-03-01  7.867072e+05  5.475929e+05  1.024362e+06  55063.110158   \n",
              "35 2021-04-01  1.145693e+06  9.197885e+05  1.385419e+06  53790.507266   \n",
              "36 2021-05-01  1.182903e+06  9.631729e+05  1.437782e+06  52558.956080   \n",
              "37 2021-09-01  1.308451e+06  1.079503e+06  1.549000e+06  47509.596219   \n",
              "38 2021-10-01  1.241297e+06  1.001111e+06  1.467916e+06  46278.045033   \n",
              "39 2021-11-01  1.221180e+06  9.886213e+05  1.455727e+06  45005.442142   \n",
              "40 2021-12-01  1.145599e+06  9.175283e+05  1.366877e+06  43773.890956   \n",
              "\n",
              "    additive_terms  \n",
              "29    1.218835e+06  \n",
              "30    1.182806e+06  \n",
              "31    1.107879e+06  \n",
              "32    5.528878e+05  \n",
              "33    6.465373e+05  \n",
              "34    7.316440e+05  \n",
              "35    1.091903e+06  \n",
              "36    1.130344e+06  \n",
              "37    1.260941e+06  \n",
              "38    1.195019e+06  \n",
              "39    1.176174e+06  \n",
              "40    1.101825e+06  "
            ],
            "text/html": [
              "\n",
              "  <div id=\"df-b9593296-f1b2-43d4-b475-08340c532318\">\n",
              "    <div class=\"colab-df-container\">\n",
              "      <div>\n",
              "<style scoped>\n",
              "    .dataframe tbody tr th:only-of-type {\n",
              "        vertical-align: middle;\n",
              "    }\n",
              "\n",
              "    .dataframe tbody tr th {\n",
              "        vertical-align: top;\n",
              "    }\n",
              "\n",
              "    .dataframe thead th {\n",
              "        text-align: right;\n",
              "    }\n",
              "</style>\n",
              "<table border=\"1\" class=\"dataframe\">\n",
              "  <thead>\n",
              "    <tr style=\"text-align: right;\">\n",
              "      <th></th>\n",
              "      <th>ds</th>\n",
              "      <th>yhat</th>\n",
              "      <th>yhat_lower</th>\n",
              "      <th>yhat_upper</th>\n",
              "      <th>trend</th>\n",
              "      <th>additive_terms</th>\n",
              "    </tr>\n",
              "  </thead>\n",
              "  <tbody>\n",
              "    <tr>\n",
              "      <th>29</th>\n",
              "      <td>2020-10-01</td>\n",
              "      <td>1.280097e+06</td>\n",
              "      <td>1.052063e+06</td>\n",
              "      <td>1.515058e+06</td>\n",
              "      <td>61261.917848</td>\n",
              "      <td>1.218835e+06</td>\n",
              "    </tr>\n",
              "    <tr>\n",
              "      <th>30</th>\n",
              "      <td>2020-11-01</td>\n",
              "      <td>1.242796e+06</td>\n",
              "      <td>1.011789e+06</td>\n",
              "      <td>1.480003e+06</td>\n",
              "      <td>59989.314917</td>\n",
              "      <td>1.182806e+06</td>\n",
              "    </tr>\n",
              "    <tr>\n",
              "      <th>31</th>\n",
              "      <td>2020-12-01</td>\n",
              "      <td>1.166637e+06</td>\n",
              "      <td>9.334683e+05</td>\n",
              "      <td>1.411061e+06</td>\n",
              "      <td>58757.763715</td>\n",
              "      <td>1.107879e+06</td>\n",
              "    </tr>\n",
              "    <tr>\n",
              "      <th>32</th>\n",
              "      <td>2021-01-01</td>\n",
              "      <td>6.103729e+05</td>\n",
              "      <td>3.727859e+05</td>\n",
              "      <td>8.479296e+05</td>\n",
              "      <td>57485.160823</td>\n",
              "      <td>5.528878e+05</td>\n",
              "    </tr>\n",
              "    <tr>\n",
              "      <th>33</th>\n",
              "      <td>2021-02-01</td>\n",
              "      <td>7.027499e+05</td>\n",
              "      <td>4.681870e+05</td>\n",
              "      <td>9.411264e+05</td>\n",
              "      <td>56212.557931</td>\n",
              "      <td>6.465373e+05</td>\n",
              "    </tr>\n",
              "    <tr>\n",
              "      <th>34</th>\n",
              "      <td>2021-03-01</td>\n",
              "      <td>7.867072e+05</td>\n",
              "      <td>5.475929e+05</td>\n",
              "      <td>1.024362e+06</td>\n",
              "      <td>55063.110158</td>\n",
              "      <td>7.316440e+05</td>\n",
              "    </tr>\n",
              "    <tr>\n",
              "      <th>35</th>\n",
              "      <td>2021-04-01</td>\n",
              "      <td>1.145693e+06</td>\n",
              "      <td>9.197885e+05</td>\n",
              "      <td>1.385419e+06</td>\n",
              "      <td>53790.507266</td>\n",
              "      <td>1.091903e+06</td>\n",
              "    </tr>\n",
              "    <tr>\n",
              "      <th>36</th>\n",
              "      <td>2021-05-01</td>\n",
              "      <td>1.182903e+06</td>\n",
              "      <td>9.631729e+05</td>\n",
              "      <td>1.437782e+06</td>\n",
              "      <td>52558.956080</td>\n",
              "      <td>1.130344e+06</td>\n",
              "    </tr>\n",
              "    <tr>\n",
              "      <th>37</th>\n",
              "      <td>2021-09-01</td>\n",
              "      <td>1.308451e+06</td>\n",
              "      <td>1.079503e+06</td>\n",
              "      <td>1.549000e+06</td>\n",
              "      <td>47509.596219</td>\n",
              "      <td>1.260941e+06</td>\n",
              "    </tr>\n",
              "    <tr>\n",
              "      <th>38</th>\n",
              "      <td>2021-10-01</td>\n",
              "      <td>1.241297e+06</td>\n",
              "      <td>1.001111e+06</td>\n",
              "      <td>1.467916e+06</td>\n",
              "      <td>46278.045033</td>\n",
              "      <td>1.195019e+06</td>\n",
              "    </tr>\n",
              "    <tr>\n",
              "      <th>39</th>\n",
              "      <td>2021-11-01</td>\n",
              "      <td>1.221180e+06</td>\n",
              "      <td>9.886213e+05</td>\n",
              "      <td>1.455727e+06</td>\n",
              "      <td>45005.442142</td>\n",
              "      <td>1.176174e+06</td>\n",
              "    </tr>\n",
              "    <tr>\n",
              "      <th>40</th>\n",
              "      <td>2021-12-01</td>\n",
              "      <td>1.145599e+06</td>\n",
              "      <td>9.175283e+05</td>\n",
              "      <td>1.366877e+06</td>\n",
              "      <td>43773.890956</td>\n",
              "      <td>1.101825e+06</td>\n",
              "    </tr>\n",
              "  </tbody>\n",
              "</table>\n",
              "</div>\n",
              "      <button class=\"colab-df-convert\" onclick=\"convertToInteractive('df-b9593296-f1b2-43d4-b475-08340c532318')\"\n",
              "              title=\"Convert this dataframe to an interactive table.\"\n",
              "              style=\"display:none;\">\n",
              "        \n",
              "  <svg xmlns=\"http://www.w3.org/2000/svg\" height=\"24px\"viewBox=\"0 0 24 24\"\n",
              "       width=\"24px\">\n",
              "    <path d=\"M0 0h24v24H0V0z\" fill=\"none\"/>\n",
              "    <path d=\"M18.56 5.44l.94 2.06.94-2.06 2.06-.94-2.06-.94-.94-2.06-.94 2.06-2.06.94zm-11 1L8.5 8.5l.94-2.06 2.06-.94-2.06-.94L8.5 2.5l-.94 2.06-2.06.94zm10 10l.94 2.06.94-2.06 2.06-.94-2.06-.94-.94-2.06-.94 2.06-2.06.94z\"/><path d=\"M17.41 7.96l-1.37-1.37c-.4-.4-.92-.59-1.43-.59-.52 0-1.04.2-1.43.59L10.3 9.45l-7.72 7.72c-.78.78-.78 2.05 0 2.83L4 21.41c.39.39.9.59 1.41.59.51 0 1.02-.2 1.41-.59l7.78-7.78 2.81-2.81c.8-.78.8-2.07 0-2.86zM5.41 20L4 18.59l7.72-7.72 1.47 1.35L5.41 20z\"/>\n",
              "  </svg>\n",
              "      </button>\n",
              "      \n",
              "  <style>\n",
              "    .colab-df-container {\n",
              "      display:flex;\n",
              "      flex-wrap:wrap;\n",
              "      gap: 12px;\n",
              "    }\n",
              "\n",
              "    .colab-df-convert {\n",
              "      background-color: #E8F0FE;\n",
              "      border: none;\n",
              "      border-radius: 50%;\n",
              "      cursor: pointer;\n",
              "      display: none;\n",
              "      fill: #1967D2;\n",
              "      height: 32px;\n",
              "      padding: 0 0 0 0;\n",
              "      width: 32px;\n",
              "    }\n",
              "\n",
              "    .colab-df-convert:hover {\n",
              "      background-color: #E2EBFA;\n",
              "      box-shadow: 0px 1px 2px rgba(60, 64, 67, 0.3), 0px 1px 3px 1px rgba(60, 64, 67, 0.15);\n",
              "      fill: #174EA6;\n",
              "    }\n",
              "\n",
              "    [theme=dark] .colab-df-convert {\n",
              "      background-color: #3B4455;\n",
              "      fill: #D2E3FC;\n",
              "    }\n",
              "\n",
              "    [theme=dark] .colab-df-convert:hover {\n",
              "      background-color: #434B5C;\n",
              "      box-shadow: 0px 1px 3px 1px rgba(0, 0, 0, 0.15);\n",
              "      filter: drop-shadow(0px 1px 2px rgba(0, 0, 0, 0.3));\n",
              "      fill: #FFFFFF;\n",
              "    }\n",
              "  </style>\n",
              "\n",
              "      <script>\n",
              "        const buttonEl =\n",
              "          document.querySelector('#df-b9593296-f1b2-43d4-b475-08340c532318 button.colab-df-convert');\n",
              "        buttonEl.style.display =\n",
              "          google.colab.kernel.accessAllowed ? 'block' : 'none';\n",
              "\n",
              "        async function convertToInteractive(key) {\n",
              "          const element = document.querySelector('#df-b9593296-f1b2-43d4-b475-08340c532318');\n",
              "          const dataTable =\n",
              "            await google.colab.kernel.invokeFunction('convertToInteractive',\n",
              "                                                     [key], {});\n",
              "          if (!dataTable) return;\n",
              "\n",
              "          const docLinkHtml = 'Like what you see? Visit the ' +\n",
              "            '<a target=\"_blank\" href=https://colab.research.google.com/notebooks/data_table.ipynb>data table notebook</a>'\n",
              "            + ' to learn more about interactive tables.';\n",
              "          element.innerHTML = '';\n",
              "          dataTable['output_type'] = 'display_data';\n",
              "          await google.colab.output.renderOutput(dataTable, element);\n",
              "          const docLink = document.createElement('div');\n",
              "          docLink.innerHTML = docLinkHtml;\n",
              "          element.appendChild(docLink);\n",
              "        }\n",
              "      </script>\n",
              "    </div>\n",
              "  </div>\n",
              "  "
            ]
          },
          "metadata": {},
          "execution_count": 7
        }
      ]
    },
    {
      "cell_type": "markdown",
      "source": [
        "# Plot the Predictions on Input Dataset\n",
        "\n",
        "The **black dots** refers to the actual data points as present in the dataset. The **dark blue line** refers to the *yhat* line. This is the value predicted by the model at each time instance. The **light blue region** refers to the confidence interval. And we can see that we have got 2 outliers in the dataset."
      ],
      "metadata": {
        "id": "ei4xLVErYgw4"
      }
    },
    {
      "cell_type": "code",
      "source": [
        "model.plot(prediction)"
      ],
      "metadata": {
        "colab": {
          "base_uri": "https://localhost:8080/",
          "height": 865
        },
        "id": "GwsR2VuyP4J6",
        "outputId": "c64e6355-9fef-44db-b7fa-c5a60c5dd3c3"
      },
      "execution_count": null,
      "outputs": [
        {
          "output_type": "execute_result",
          "data": {
            "text/plain": [
              "<Figure size 720x432 with 1 Axes>"
            ],
            "image/png": "[encoded data removed]"
          },
          "metadata": {},
          "execution_count": 8
        },
        {
          "output_type": "display_data",
          "data": {
            "text/plain": [
              "<Figure size 720x432 with 1 Axes>"
            ],
            "image/png": "[encoded data removed]"
          },
          "metadata": {}
        }
      ]
    },
    {
      "cell_type": "markdown",
      "source": [
        "# Plot Trend of the Data over Years\n",
        "\n",
        "Here we can see the area under moderate and thick forest is slowly decreasing over the years."
      ],
      "metadata": {
        "id": "VoOu9bD2af0N"
      }
    },
    {
      "cell_type": "code",
      "source": [
        "plot_forecast_component(model, prediction, name = 'trend')"
      ],
      "metadata": {
        "colab": {
          "base_uri": "https://localhost:8080/",
          "height": 423
        },
        "id": "oqkRQwAySs65",
        "outputId": "1e1e7442-344c-4af4-8795-bd1b63669941"
      },
      "execution_count": null,
      "outputs": [
        {
          "output_type": "execute_result",
          "data": {
            "text/plain": [
              "[<matplotlib.lines.Line2D at 0x7f14622bccd0>,\n",
              " <matplotlib.collections.PolyCollection at 0x7f14621e77d0>]"
            ]
          },
          "metadata": {},
          "execution_count": 9
        },
        {
          "output_type": "display_data",
          "data": {
            "text/plain": [
              "<Figure size 720x432 with 1 Axes>"
            ],
            "image/png": "[encoded data removed]"
          },
          "metadata": {}
        }
      ]
    },
    {
      "cell_type": "markdown",
      "source": [
        "# Manually Plot the Trend (only for testing)\n",
        "\n",
        "This is to confirm that the trend plotted above is actually correct. This is because the trend plotted before using the *prediction* dataset was not giving a straight line. It appears as if the problem was with the x axis values. There, matplotlib was automatically generating the x axis labels from the data while here, we are generating the x axis labels using the dates.\n",
        "\n",
        "**Note: This does not need to be included in the documentation as this is only for testing purposes.**"
      ],
      "metadata": {
        "id": "8OgCuKwKbEyp"
      }
    },
    {
      "cell_type": "code",
      "source": [
        "fcst_t = prediction['ds'].dt.to_pydatetime()\n",
        "x_timestamps = list(map(lambda x: x.timestamp(), prediction['ds'].tolist()))\n",
        "plt.plot(x_timestamps, prediction['trend'], ls = '-', c = '#0072B2')\n",
        "plt.show()"
      ],
      "metadata": {
        "colab": {
          "base_uri": "https://localhost:8080/",
          "height": 278
        },
        "id": "jK8WFyHkJl_8",
        "outputId": "25cfd98f-d1d2-438f-e238-b195cf861b8b"
      },
      "execution_count": null,
      "outputs": [
        {
          "output_type": "display_data",
          "data": {
            "text/plain": [
              "<Figure size 432x288 with 1 Axes>"
            ],
            "image/png": "[encoded data removed]"
          },
          "metadata": {
            "needs_background": "light"
          }
        }
      ]
    },
    {
      "cell_type": "markdown",
      "source": [
        "# Calculate the Slope of Trendline\n",
        "\n",
        "The slope of the trendline signifies whether the area is having deforestation or reforestation. A negative slope represent deforestation while a positive slope represent reforestation. Here, we calculate the slope of the line and see that deforestation is prevalent in this region as also visually confirmed from the RGB images.\n",
        "\n",
        "We have taken only the last 2 data points for calculating the slope. This is because the trend can change over time and the line is not guaranteed to be straight for all datasets. So if the trend changes over time, and we consider all the data points, then the slope cannot be calculated and the output will be errorneous."
      ],
      "metadata": {
        "id": "k6BUC89EcblU"
      }
    },
    {
      "cell_type": "code",
      "source": [
        "x_timestamps = list(map(lambda x: x.timestamp(), prediction['ds'].tolist()))\n",
        "slope, intercept = np.polyfit(x_timestamps[-2:], prediction['trend'][-2:], deg = 1)\n",
        "slope"
      ],
      "metadata": {
        "colab": {
          "base_uri": "https://localhost:8080/"
        },
        "id": "nOBL1scmdTWg",
        "outputId": "07f7c08a-b234-40a6-f6ec-3b706238f8e9"
      },
      "execution_count": null,
      "outputs": [
        {
          "output_type": "execute_result",
          "data": {
            "text/plain": [
              "-0.000475135513540762"
            ]
          },
          "metadata": {},
          "execution_count": 35
        }
      ]
    },
    {
      "cell_type": "code",
      "source": [
        "angle = np.rad2deg(np.arctan2(prediction['trend'].tolist()[-1] - prediction['trend'].tolist()[-2], x_timestamps[-2] - x_timestamps[-1]))\n",
        "angle"
      ],
      "metadata": {
        "colab": {
          "base_uri": "https://localhost:8080/"
        },
        "id": "PEsOPlej6T3o",
        "outputId": "102118be-3fb4-4d72-cc10-766b2a8d4d4d"
      },
      "execution_count": null,
      "outputs": [
        {
          "output_type": "execute_result",
          "data": {
            "text/plain": [
              "-179.97277674387257"
            ]
          },
          "metadata": {},
          "execution_count": 40
        }
      ]
    },
    {
      "cell_type": "markdown",
      "source": [
        "# Perform Cross-Validation to Check Model Performance\n",
        "\n",
        "Perform **cross-validation** on the training dataset. Initially a period of 4 years is taken to train the model (`initial` parameter) and 1 year (the 5th year) is used to validate the model (`horizon` parameter). Then another year (5th year) is added to the training data (`period` parameter) and the 6th year is used for validation. This process is performed repeatedly for the entire dataset.\n",
        "\n",
        "Blog on Cross-Validation: [https://robjhyndman.com/hyndsight/tscv/](https://robjhyndman.com/hyndsight/tscv/)\n",
        "\n",
        "In this dataset, we have data ranging from 2016 to 2021. So, initially if we add data worth of 4 years to training, then we are left with only the 5th year (2021) for validation. We add 4 year worth of training data initially because we do not have any data for the month of *May* for any year before 2020. Hence, we are only left with 1 iteration of cross-validation."
      ],
      "metadata": {
        "id": "V7QyQStE4QQR"
      }
    },
    {
      "cell_type": "markdown",
      "source": [
        "Here, we can observe the `y` and `yhat` values for all the available data points in 2021. The dates of the available data points are shown in `ds` column. The cutoff is the December of 2021 as we had 4 years worth of data in the training set."
      ],
      "metadata": {
        "id": "tBgmSGNZ7tJE"
      }
    },
    {
      "cell_type": "code",
      "source": [
        "df_cv = cross_validation(model, horizon = \"365 days\", initial = \"1460 days\", period = \"365 days\")"
      ],
      "metadata": {
        "colab": {
          "base_uri": "https://localhost:8080/",
          "height": 84,
          "referenced_widgets": [
            "3950b1eb194f40549eec96ee95423a0c",
            "dd418288b00e40eb9a80f83131836b8f",
            "79f2da307d464c53842b1665e3cc06b4",
            "c8183500592c48e3897972b5265b28a3",
            "a0b48443c1d04155b60815829e4730be",
            "53c8fb4110b44ac5ba7d6989a0f8b58e",
            "5433ee08f5194263b933b722f34c3afc",
            "579f9208afc3432b85bfd2d19ea12b67",
            "08661f5a768c44e0b4551c8e863584ef",
            "c5fa90527c044b43845e5ccc02fd3e1c",
            "74d8740f75b04ebab504fbaa1386915d"
          ]
        },
        "id": "hvITq4kuhDfY",
        "outputId": "3a7f255e-5032-4e8a-a69d-2c4befb3c60a"
      },
      "execution_count": null,
      "outputs": [
        {
          "output_type": "stream",
          "name": "stderr",
          "text": [
            "INFO:prophet:Making 1 forecasts with cutoffs between 2020-12-01 00:00:00 and 2020-12-01 00:00:00\n"
          ]
        },
        {
          "output_type": "display_data",
          "data": {
            "text/plain": [
              "  0%|          | 0/1 [00:00<?, ?it/s]"
            ],
            "application/vnd.jupyter.widget-view+json": {
              "version_major": 2,
              "version_minor": 0,
              "model_id": "3950b1eb194f40549eec96ee95423a0c"
            }
          },
          "metadata": {}
        },
        {
          "output_type": "stream",
          "name": "stderr",
          "text": [
            "INFO:prophet:n_changepoints greater than number of observations. Using 24.\n"
          ]
        }
      ]
    },
    {
      "cell_type": "code",
      "source": [
        "df_cv"
      ],
      "metadata": {
        "colab": {
          "base_uri": "https://localhost:8080/",
          "height": 332
        },
        "id": "9-aFoMf8jDDI",
        "outputId": "2e79afcb-1574-4387-c757-518744bf866a"
      },
      "execution_count": null,
      "outputs": [
        {
          "output_type": "execute_result",
          "data": {
            "text/plain": [
              "          ds          yhat    yhat_lower    yhat_upper        y     cutoff\n",
              "0 2021-01-01  6.141665e+05  3.562572e+05  8.631440e+05   575320 2020-12-01\n",
              "1 2021-02-01  6.359157e+05  3.879205e+05  8.935495e+05   752044 2020-12-01\n",
              "2 2021-03-01  8.769729e+05  6.157857e+05  1.153807e+06   635369 2020-12-01\n",
              "3 2021-04-01  1.139995e+06  8.922064e+05  1.407464e+06  1143471 2020-12-01\n",
              "4 2021-05-01  1.063218e+06  8.015402e+05  1.314505e+06  1204999 2020-12-01\n",
              "5 2021-09-01  1.405399e+06  1.158253e+06  1.658382e+06  1290356 2020-12-01\n",
              "6 2021-10-01  1.227106e+06  9.629942e+05  1.489139e+06  1291349 2020-12-01\n",
              "7 2021-11-01  1.208090e+06  9.541530e+05  1.466357e+06  1262746 2020-12-01\n",
              "8 2021-12-01  1.132253e+06  8.804058e+05  1.389207e+06  1187600 2020-12-01"
            ],
            "text/html": [
              "\n",
              "  <div id=\"df-02bd1dd3-d061-4d0e-a381-a6d40702f5c8\">\n",
              "    <div class=\"colab-df-container\">\n",
              "      <div>\n",
              "<style scoped>\n",
              "    .dataframe tbody tr th:only-of-type {\n",
              "        vertical-align: middle;\n",
              "    }\n",
              "\n",
              "    .dataframe tbody tr th {\n",
              "        vertical-align: top;\n",
              "    }\n",
              "\n",
              "    .dataframe thead th {\n",
              "        text-align: right;\n",
              "    }\n",
              "</style>\n",
              "<table border=\"1\" class=\"dataframe\">\n",
              "  <thead>\n",
              "    <tr style=\"text-align: right;\">\n",
              "      <th></th>\n",
              "      <th>ds</th>\n",
              "      <th>yhat</th>\n",
              "      <th>yhat_lower</th>\n",
              "      <th>yhat_upper</th>\n",
              "      <th>y</th>\n",
              "      <th>cutoff</th>\n",
              "    </tr>\n",
              "  </thead>\n",
              "  <tbody>\n",
              "    <tr>\n",
              "      <th>0</th>\n",
              "      <td>2021-01-01</td>\n",
              "      <td>6.141665e+05</td>\n",
              "      <td>3.562572e+05</td>\n",
              "      <td>8.631440e+05</td>\n",
              "      <td>575320</td>\n",
              "      <td>2020-12-01</td>\n",
              "    </tr>\n",
              "    <tr>\n",
              "      <th>1</th>\n",
              "      <td>2021-02-01</td>\n",
              "      <td>6.359157e+05</td>\n",
              "      <td>3.879205e+05</td>\n",
              "      <td>8.935495e+05</td>\n",
              "      <td>752044</td>\n",
              "      <td>2020-12-01</td>\n",
              "    </tr>\n",
              "    <tr>\n",
              "      <th>2</th>\n",
              "      <td>2021-03-01</td>\n",
              "      <td>8.769729e+05</td>\n",
              "      <td>6.157857e+05</td>\n",
              "      <td>1.153807e+06</td>\n",
              "      <td>635369</td>\n",
              "      <td>2020-12-01</td>\n",
              "    </tr>\n",
              "    <tr>\n",
              "      <th>3</th>\n",
              "      <td>2021-04-01</td>\n",
              "      <td>1.139995e+06</td>\n",
              "      <td>8.922064e+05</td>\n",
              "      <td>1.407464e+06</td>\n",
              "      <td>1143471</td>\n",
              "      <td>2020-12-01</td>\n",
              "    </tr>\n",
              "    <tr>\n",
              "      <th>4</th>\n",
              "      <td>2021-05-01</td>\n",
              "      <td>1.063218e+06</td>\n",
              "      <td>8.015402e+05</td>\n",
              "      <td>1.314505e+06</td>\n",
              "      <td>1204999</td>\n",
              "      <td>2020-12-01</td>\n",
              "    </tr>\n",
              "    <tr>\n",
              "      <th>5</th>\n",
              "      <td>2021-09-01</td>\n",
              "      <td>1.405399e+06</td>\n",
              "      <td>1.158253e+06</td>\n",
              "      <td>1.658382e+06</td>\n",
              "      <td>1290356</td>\n",
              "      <td>2020-12-01</td>\n",
              "    </tr>\n",
              "    <tr>\n",
              "      <th>6</th>\n",
              "      <td>2021-10-01</td>\n",
              "      <td>1.227106e+06</td>\n",
              "      <td>9.629942e+05</td>\n",
              "      <td>1.489139e+06</td>\n",
              "      <td>1291349</td>\n",
              "      <td>2020-12-01</td>\n",
              "    </tr>\n",
              "    <tr>\n",
              "      <th>7</th>\n",
              "      <td>2021-11-01</td>\n",
              "      <td>1.208090e+06</td>\n",
              "      <td>9.541530e+05</td>\n",
              "      <td>1.466357e+06</td>\n",
              "      <td>1262746</td>\n",
              "      <td>2020-12-01</td>\n",
              "    </tr>\n",
              "    <tr>\n",
              "      <th>8</th>\n",
              "      <td>2021-12-01</td>\n",
              "      <td>1.132253e+06</td>\n",
              "      <td>8.804058e+05</td>\n",
              "      <td>1.389207e+06</td>\n",
              "      <td>1187600</td>\n",
              "      <td>2020-12-01</td>\n",
              "    </tr>\n",
              "  </tbody>\n",
              "</table>\n",
              "</div>\n",
              "      <button class=\"colab-df-convert\" onclick=\"convertToInteractive('df-02bd1dd3-d061-4d0e-a381-a6d40702f5c8')\"\n",
              "              title=\"Convert this dataframe to an interactive table.\"\n",
              "              style=\"display:none;\">\n",
              "        \n",
              "  <svg xmlns=\"http://www.w3.org/2000/svg\" height=\"24px\"viewBox=\"0 0 24 24\"\n",
              "       width=\"24px\">\n",
              "    <path d=\"M0 0h24v24H0V0z\" fill=\"none\"/>\n",
              "    <path d=\"M18.56 5.44l.94 2.06.94-2.06 2.06-.94-2.06-.94-.94-2.06-.94 2.06-2.06.94zm-11 1L8.5 8.5l.94-2.06 2.06-.94-2.06-.94L8.5 2.5l-.94 2.06-2.06.94zm10 10l.94 2.06.94-2.06 2.06-.94-2.06-.94-.94-2.06-.94 2.06-2.06.94z\"/><path d=\"M17.41 7.96l-1.37-1.37c-.4-.4-.92-.59-1.43-.59-.52 0-1.04.2-1.43.59L10.3 9.45l-7.72 7.72c-.78.78-.78 2.05 0 2.83L4 21.41c.39.39.9.59 1.41.59.51 0 1.02-.2 1.41-.59l7.78-7.78 2.81-2.81c.8-.78.8-2.07 0-2.86zM5.41 20L4 18.59l7.72-7.72 1.47 1.35L5.41 20z\"/>\n",
              "  </svg>\n",
              "      </button>\n",
              "      \n",
              "  <style>\n",
              "    .colab-df-container {\n",
              "      display:flex;\n",
              "      flex-wrap:wrap;\n",
              "      gap: 12px;\n",
              "    }\n",
              "\n",
              "    .colab-df-convert {\n",
              "      background-color: #E8F0FE;\n",
              "      border: none;\n",
              "      border-radius: 50%;\n",
              "      cursor: pointer;\n",
              "      display: none;\n",
              "      fill: #1967D2;\n",
              "      height: 32px;\n",
              "      padding: 0 0 0 0;\n",
              "      width: 32px;\n",
              "    }\n",
              "\n",
              "    .colab-df-convert:hover {\n",
              "      background-color: #E2EBFA;\n",
              "      box-shadow: 0px 1px 2px rgba(60, 64, 67, 0.3), 0px 1px 3px 1px rgba(60, 64, 67, 0.15);\n",
              "      fill: #174EA6;\n",
              "    }\n",
              "\n",
              "    [theme=dark] .colab-df-convert {\n",
              "      background-color: #3B4455;\n",
              "      fill: #D2E3FC;\n",
              "    }\n",
              "\n",
              "    [theme=dark] .colab-df-convert:hover {\n",
              "      background-color: #434B5C;\n",
              "      box-shadow: 0px 1px 3px 1px rgba(0, 0, 0, 0.15);\n",
              "      filter: drop-shadow(0px 1px 2px rgba(0, 0, 0, 0.3));\n",
              "      fill: #FFFFFF;\n",
              "    }\n",
              "  </style>\n",
              "\n",
              "      <script>\n",
              "        const buttonEl =\n",
              "          document.querySelector('#df-02bd1dd3-d061-4d0e-a381-a6d40702f5c8 button.colab-df-convert');\n",
              "        buttonEl.style.display =\n",
              "          google.colab.kernel.accessAllowed ? 'block' : 'none';\n",
              "\n",
              "        async function convertToInteractive(key) {\n",
              "          const element = document.querySelector('#df-02bd1dd3-d061-4d0e-a381-a6d40702f5c8');\n",
              "          const dataTable =\n",
              "            await google.colab.kernel.invokeFunction('convertToInteractive',\n",
              "                                                     [key], {});\n",
              "          if (!dataTable) return;\n",
              "\n",
              "          const docLinkHtml = 'Like what you see? Visit the ' +\n",
              "            '<a target=\"_blank\" href=https://colab.research.google.com/notebooks/data_table.ipynb>data table notebook</a>'\n",
              "            + ' to learn more about interactive tables.';\n",
              "          element.innerHTML = '';\n",
              "          dataTable['output_type'] = 'display_data';\n",
              "          await google.colab.output.renderOutput(dataTable, element);\n",
              "          const docLink = document.createElement('div');\n",
              "          docLink.innerHTML = docLinkHtml;\n",
              "          element.appendChild(docLink);\n",
              "        }\n",
              "      </script>\n",
              "    </div>\n",
              "  </div>\n",
              "  "
            ]
          },
          "metadata": {},
          "execution_count": 41
        }
      ]
    },
    {
      "cell_type": "markdown",
      "source": [
        "From the above dataset, it may be difficult to observe the accuracy (a rough estimate of how the model is performing) of the model. Here we add that **accuracy** column to the dataset. Again, this is an informal way of looking at the performance of the model and is only used for reference purpose. We will look at more formal metrics of performance later on.\n",
        "\n",
        "From below, we can see that most of the accuracy values we get are quite respectable for our purposes."
      ],
      "metadata": {
        "id": "LdoIgy308QEe"
      }
    },
    {
      "cell_type": "code",
      "source": [
        "df_accuracy = df_cv.copy()\n",
        "df_accuracy[\"accuracy\"] = 1 - ((df_accuracy[\"y\"] - df_accuracy[\"yhat\"]) / df_accuracy[\"y\"]).abs()\n",
        "df_accuracy"
      ],
      "metadata": {
        "colab": {
          "base_uri": "https://localhost:8080/",
          "height": 332
        },
        "id": "Xj46FEE6xYiG",
        "outputId": "56b8e05e-952f-4139-d1b2-5bf0c0d6a0c3"
      },
      "execution_count": null,
      "outputs": [
        {
          "output_type": "execute_result",
          "data": {
            "text/plain": [
              "          ds          yhat    yhat_lower    yhat_upper        y     cutoff  \\\n",
              "0 2021-01-01  6.141665e+05  3.562572e+05  8.631440e+05   575320 2020-12-01   \n",
              "1 2021-02-01  6.359157e+05  3.879205e+05  8.935495e+05   752044 2020-12-01   \n",
              "2 2021-03-01  8.769729e+05  6.157857e+05  1.153807e+06   635369 2020-12-01   \n",
              "3 2021-04-01  1.139995e+06  8.922064e+05  1.407464e+06  1143471 2020-12-01   \n",
              "4 2021-05-01  1.063218e+06  8.015402e+05  1.314505e+06  1204999 2020-12-01   \n",
              "5 2021-09-01  1.405399e+06  1.158253e+06  1.658382e+06  1290356 2020-12-01   \n",
              "6 2021-10-01  1.227106e+06  9.629942e+05  1.489139e+06  1291349 2020-12-01   \n",
              "7 2021-11-01  1.208090e+06  9.541530e+05  1.466357e+06  1262746 2020-12-01   \n",
              "8 2021-12-01  1.132253e+06  8.804058e+05  1.389207e+06  1187600 2020-12-01   \n",
              "\n",
              "   accuracy  \n",
              "0  0.932478  \n",
              "1  0.845583  \n",
              "2  0.619742  \n",
              "3  0.996960  \n",
              "4  0.882339  \n",
              "5  0.910844  \n",
              "6  0.950251  \n",
              "7  0.956716  \n",
              "8  0.953396  "
            ],
            "text/html": [
              "\n",
              "  <div id=\"df-c8b98d58-2061-4024-b36c-1fc5ccbe3420\">\n",
              "    <div class=\"colab-df-container\">\n",
              "      <div>\n",
              "<style scoped>\n",
              "    .dataframe tbody tr th:only-of-type {\n",
              "        vertical-align: middle;\n",
              "    }\n",
              "\n",
              "    .dataframe tbody tr th {\n",
              "        vertical-align: top;\n",
              "    }\n",
              "\n",
              "    .dataframe thead th {\n",
              "        text-align: right;\n",
              "    }\n",
              "</style>\n",
              "<table border=\"1\" class=\"dataframe\">\n",
              "  <thead>\n",
              "    <tr style=\"text-align: right;\">\n",
              "      <th></th>\n",
              "      <th>ds</th>\n",
              "      <th>yhat</th>\n",
              "      <th>yhat_lower</th>\n",
              "      <th>yhat_upper</th>\n",
              "      <th>y</th>\n",
              "      <th>cutoff</th>\n",
              "      <th>accuracy</th>\n",
              "    </tr>\n",
              "  </thead>\n",
              "  <tbody>\n",
              "    <tr>\n",
              "      <th>0</th>\n",
              "      <td>2021-01-01</td>\n",
              "      <td>6.141665e+05</td>\n",
              "      <td>3.562572e+05</td>\n",
              "      <td>8.631440e+05</td>\n",
              "      <td>575320</td>\n",
              "      <td>2020-12-01</td>\n",
              "      <td>0.932478</td>\n",
              "    </tr>\n",
              "    <tr>\n",
              "      <th>1</th>\n",
              "      <td>2021-02-01</td>\n",
              "      <td>6.359157e+05</td>\n",
              "      <td>3.879205e+05</td>\n",
              "      <td>8.935495e+05</td>\n",
              "      <td>752044</td>\n",
              "      <td>2020-12-01</td>\n",
              "      <td>0.845583</td>\n",
              "    </tr>\n",
              "    <tr>\n",
              "      <th>2</th>\n",
              "      <td>2021-03-01</td>\n",
              "      <td>8.769729e+05</td>\n",
              "      <td>6.157857e+05</td>\n",
              "      <td>1.153807e+06</td>\n",
              "      <td>635369</td>\n",
              "      <td>2020-12-01</td>\n",
              "      <td>0.619742</td>\n",
              "    </tr>\n",
              "    <tr>\n",
              "      <th>3</th>\n",
              "      <td>2021-04-01</td>\n",
              "      <td>1.139995e+06</td>\n",
              "      <td>8.922064e+05</td>\n",
              "      <td>1.407464e+06</td>\n",
              "      <td>1143471</td>\n",
              "      <td>2020-12-01</td>\n",
              "      <td>0.996960</td>\n",
              "    </tr>\n",
              "    <tr>\n",
              "      <th>4</th>\n",
              "      <td>2021-05-01</td>\n",
              "      <td>1.063218e+06</td>\n",
              "      <td>8.015402e+05</td>\n",
              "      <td>1.314505e+06</td>\n",
              "      <td>1204999</td>\n",
              "      <td>2020-12-01</td>\n",
              "      <td>0.882339</td>\n",
              "    </tr>\n",
              "    <tr>\n",
              "      <th>5</th>\n",
              "      <td>2021-09-01</td>\n",
              "      <td>1.405399e+06</td>\n",
              "      <td>1.158253e+06</td>\n",
              "      <td>1.658382e+06</td>\n",
              "      <td>1290356</td>\n",
              "      <td>2020-12-01</td>\n",
              "      <td>0.910844</td>\n",
              "    </tr>\n",
              "    <tr>\n",
              "      <th>6</th>\n",
              "      <td>2021-10-01</td>\n",
              "      <td>1.227106e+06</td>\n",
              "      <td>9.629942e+05</td>\n",
              "      <td>1.489139e+06</td>\n",
              "      <td>1291349</td>\n",
              "      <td>2020-12-01</td>\n",
              "      <td>0.950251</td>\n",
              "    </tr>\n",
              "    <tr>\n",
              "      <th>7</th>\n",
              "      <td>2021-11-01</td>\n",
              "      <td>1.208090e+06</td>\n",
              "      <td>9.541530e+05</td>\n",
              "      <td>1.466357e+06</td>\n",
              "      <td>1262746</td>\n",
              "      <td>2020-12-01</td>\n",
              "      <td>0.956716</td>\n",
              "    </tr>\n",
              "    <tr>\n",
              "      <th>8</th>\n",
              "      <td>2021-12-01</td>\n",
              "      <td>1.132253e+06</td>\n",
              "      <td>8.804058e+05</td>\n",
              "      <td>1.389207e+06</td>\n",
              "      <td>1187600</td>\n",
              "      <td>2020-12-01</td>\n",
              "      <td>0.953396</td>\n",
              "    </tr>\n",
              "  </tbody>\n",
              "</table>\n",
              "</div>\n",
              "      <button class=\"colab-df-convert\" onclick=\"convertToInteractive('df-c8b98d58-2061-4024-b36c-1fc5ccbe3420')\"\n",
              "              title=\"Convert this dataframe to an interactive table.\"\n",
              "              style=\"display:none;\">\n",
              "        \n",
              "  <svg xmlns=\"http://www.w3.org/2000/svg\" height=\"24px\"viewBox=\"0 0 24 24\"\n",
              "       width=\"24px\">\n",
              "    <path d=\"M0 0h24v24H0V0z\" fill=\"none\"/>\n",
              "    <path d=\"M18.56 5.44l.94 2.06.94-2.06 2.06-.94-2.06-.94-.94-2.06-.94 2.06-2.06.94zm-11 1L8.5 8.5l.94-2.06 2.06-.94-2.06-.94L8.5 2.5l-.94 2.06-2.06.94zm10 10l.94 2.06.94-2.06 2.06-.94-2.06-.94-.94-2.06-.94 2.06-2.06.94z\"/><path d=\"M17.41 7.96l-1.37-1.37c-.4-.4-.92-.59-1.43-.59-.52 0-1.04.2-1.43.59L10.3 9.45l-7.72 7.72c-.78.78-.78 2.05 0 2.83L4 21.41c.39.39.9.59 1.41.59.51 0 1.02-.2 1.41-.59l7.78-7.78 2.81-2.81c.8-.78.8-2.07 0-2.86zM5.41 20L4 18.59l7.72-7.72 1.47 1.35L5.41 20z\"/>\n",
              "  </svg>\n",
              "      </button>\n",
              "      \n",
              "  <style>\n",
              "    .colab-df-container {\n",
              "      display:flex;\n",
              "      flex-wrap:wrap;\n",
              "      gap: 12px;\n",
              "    }\n",
              "\n",
              "    .colab-df-convert {\n",
              "      background-color: #E8F0FE;\n",
              "      border: none;\n",
              "      border-radius: 50%;\n",
              "      cursor: pointer;\n",
              "      display: none;\n",
              "      fill: #1967D2;\n",
              "      height: 32px;\n",
              "      padding: 0 0 0 0;\n",
              "      width: 32px;\n",
              "    }\n",
              "\n",
              "    .colab-df-convert:hover {\n",
              "      background-color: #E2EBFA;\n",
              "      box-shadow: 0px 1px 2px rgba(60, 64, 67, 0.3), 0px 1px 3px 1px rgba(60, 64, 67, 0.15);\n",
              "      fill: #174EA6;\n",
              "    }\n",
              "\n",
              "    [theme=dark] .colab-df-convert {\n",
              "      background-color: #3B4455;\n",
              "      fill: #D2E3FC;\n",
              "    }\n",
              "\n",
              "    [theme=dark] .colab-df-convert:hover {\n",
              "      background-color: #434B5C;\n",
              "      box-shadow: 0px 1px 3px 1px rgba(0, 0, 0, 0.15);\n",
              "      filter: drop-shadow(0px 1px 2px rgba(0, 0, 0, 0.3));\n",
              "      fill: #FFFFFF;\n",
              "    }\n",
              "  </style>\n",
              "\n",
              "      <script>\n",
              "        const buttonEl =\n",
              "          document.querySelector('#df-c8b98d58-2061-4024-b36c-1fc5ccbe3420 button.colab-df-convert');\n",
              "        buttonEl.style.display =\n",
              "          google.colab.kernel.accessAllowed ? 'block' : 'none';\n",
              "\n",
              "        async function convertToInteractive(key) {\n",
              "          const element = document.querySelector('#df-c8b98d58-2061-4024-b36c-1fc5ccbe3420');\n",
              "          const dataTable =\n",
              "            await google.colab.kernel.invokeFunction('convertToInteractive',\n",
              "                                                     [key], {});\n",
              "          if (!dataTable) return;\n",
              "\n",
              "          const docLinkHtml = 'Like what you see? Visit the ' +\n",
              "            '<a target=\"_blank\" href=https://colab.research.google.com/notebooks/data_table.ipynb>data table notebook</a>'\n",
              "            + ' to learn more about interactive tables.';\n",
              "          element.innerHTML = '';\n",
              "          dataTable['output_type'] = 'display_data';\n",
              "          await google.colab.output.renderOutput(dataTable, element);\n",
              "          const docLink = document.createElement('div');\n",
              "          docLink.innerHTML = docLinkHtml;\n",
              "          element.appendChild(docLink);\n",
              "        }\n",
              "      </script>\n",
              "    </div>\n",
              "  </div>\n",
              "  "
            ]
          },
          "metadata": {},
          "execution_count": 36
        }
      ]
    },
    {
      "cell_type": "markdown",
      "source": [
        "This is a plot of the accuracy values we obtained above.\n",
        "\n",
        "We see that most of our accuracy values are around **90%** while a single point is around **65%**. This is quite workable for our purposes."
      ],
      "metadata": {
        "id": "NgBIjPHu85z0"
      }
    },
    {
      "cell_type": "code",
      "source": [
        "df_sorted = df_accuracy.sort_values(\"ds\")\n",
        "plt.plot(df_sorted[\"ds\"], df_sorted[\"accuracy\"])\n",
        "plt.show()"
      ],
      "metadata": {
        "colab": {
          "base_uri": "https://localhost:8080/",
          "height": 265
        },
        "id": "sNqYUV5o1vGU",
        "outputId": "c9a9f335-3279-4e0e-8480-6c558df99216"
      },
      "execution_count": null,
      "outputs": [
        {
          "output_type": "display_data",
          "data": {
            "text/plain": [
              "<Figure size 432x288 with 1 Axes>"
            ],
            "image/png": "[encoded data removed]"
          },
          "metadata": {
            "needs_background": "light"
          }
        }
      ]
    },
    {
      "cell_type": "markdown",
      "source": [
        "# Formal Performance Metrics\n",
        "\n",
        "We print some formal performance metrics for our model.\n",
        "\n",
        "More data can be found in [https://facebook.github.io/prophet/docs/diagnostics.html](https://facebook.github.io/prophet/docs/diagnostics.html)."
      ],
      "metadata": {
        "id": "zKLjC-Bn9okI"
      }
    },
    {
      "cell_type": "markdown",
      "source": [
        "We plot the `mape` or **Mean Absolute Percent Error** of the model. We can see that mostly, the error of our model lies around **10%** with a single value around **38%** at around the **90 days** mark."
      ],
      "metadata": {
        "id": "kwpySb4l-Xuq"
      }
    },
    {
      "cell_type": "code",
      "source": [
        "df_performance = performance_metrics(df_cv)\n",
        "df_performance"
      ],
      "metadata": {
        "colab": {
          "base_uri": "https://localhost:8080/",
          "height": 332
        },
        "id": "XV-C__gFk3xq",
        "outputId": "22ce7650-6581-4f62-8b0e-639e08a25705"
      },
      "execution_count": null,
      "outputs": [
        {
          "output_type": "execute_result",
          "data": {
            "text/plain": [
              "   horizon           mse           rmse            mae      mape     mdape  \\\n",
              "0  31 days  1.509049e+09   38846.480929   38846.480929  0.067522  0.067522   \n",
              "1  62 days  1.348579e+10  116128.340367  116128.340367  0.154417  0.154417   \n",
              "2  90 days  5.837247e+10  241603.949930  241603.949930  0.380258  0.380258   \n",
              "3 121 days  1.208384e+07    3476.181917    3476.181917  0.003040  0.003040   \n",
              "4 151 days  2.010179e+10  141780.794835  141780.794835  0.117661  0.117661   \n",
              "5 274 days  1.323481e+10  115042.660276  115042.660276  0.089156  0.089156   \n",
              "6 304 days  4.127225e+09   64243.484941   64243.484941  0.049749  0.049749   \n",
              "7 335 days  2.987329e+09   54656.460168   54656.460168  0.043284  0.043284   \n",
              "8 365 days  3.063321e+09   55347.280648   55347.280648  0.046604  0.046604   \n",
              "\n",
              "      smape  coverage  \n",
              "0  0.065316       1.0  \n",
              "1  0.167337       1.0  \n",
              "2  0.319510       1.0  \n",
              "3  0.003045       1.0  \n",
              "4  0.125015       1.0  \n",
              "5  0.085351       1.0  \n",
              "6  0.051018       1.0  \n",
              "7  0.044241       1.0  \n",
              "8  0.047716       1.0  "
            ],
            "text/html": [
              "\n",
              "  <div id=\"df-8ecd5263-a225-4ed6-9c25-7dccc5db8309\">\n",
              "    <div class=\"colab-df-container\">\n",
              "      <div>\n",
              "<style scoped>\n",
              "    .dataframe tbody tr th:only-of-type {\n",
              "        vertical-align: middle;\n",
              "    }\n",
              "\n",
              "    .dataframe tbody tr th {\n",
              "        vertical-align: top;\n",
              "    }\n",
              "\n",
              "    .dataframe thead th {\n",
              "        text-align: right;\n",
              "    }\n",
              "</style>\n",
              "<table border=\"1\" class=\"dataframe\">\n",
              "  <thead>\n",
              "    <tr style=\"text-align: right;\">\n",
              "      <th></th>\n",
              "      <th>horizon</th>\n",
              "      <th>mse</th>\n",
              "      <th>rmse</th>\n",
              "      <th>mae</th>\n",
              "      <th>mape</th>\n",
              "      <th>mdape</th>\n",
              "      <th>smape</th>\n",
              "      <th>coverage</th>\n",
              "    </tr>\n",
              "  </thead>\n",
              "  <tbody>\n",
              "    <tr>\n",
              "      <th>0</th>\n",
              "      <td>31 days</td>\n",
              "      <td>1.509049e+09</td>\n",
              "      <td>38846.480929</td>\n",
              "      <td>38846.480929</td>\n",
              "      <td>0.067522</td>\n",
              "      <td>0.067522</td>\n",
              "      <td>0.065316</td>\n",
              "      <td>1.0</td>\n",
              "    </tr>\n",
              "    <tr>\n",
              "      <th>1</th>\n",
              "      <td>62 days</td>\n",
              "      <td>1.348579e+10</td>\n",
              "      <td>116128.340367</td>\n",
              "      <td>116128.340367</td>\n",
              "      <td>0.154417</td>\n",
              "      <td>0.154417</td>\n",
              "      <td>0.167337</td>\n",
              "      <td>1.0</td>\n",
              "    </tr>\n",
              "    <tr>\n",
              "      <th>2</th>\n",
              "      <td>90 days</td>\n",
              "      <td>5.837247e+10</td>\n",
              "      <td>241603.949930</td>\n",
              "      <td>241603.949930</td>\n",
              "      <td>0.380258</td>\n",
              "      <td>0.380258</td>\n",
              "      <td>0.319510</td>\n",
              "      <td>1.0</td>\n",
              "    </tr>\n",
              "    <tr>\n",
              "      <th>3</th>\n",
              "      <td>121 days</td>\n",
              "      <td>1.208384e+07</td>\n",
              "      <td>3476.181917</td>\n",
              "      <td>3476.181917</td>\n",
              "      <td>0.003040</td>\n",
              "      <td>0.003040</td>\n",
              "      <td>0.003045</td>\n",
              "      <td>1.0</td>\n",
              "    </tr>\n",
              "    <tr>\n",
              "      <th>4</th>\n",
              "      <td>151 days</td>\n",
              "      <td>2.010179e+10</td>\n",
              "      <td>141780.794835</td>\n",
              "      <td>141780.794835</td>\n",
              "      <td>0.117661</td>\n",
              "      <td>0.117661</td>\n",
              "      <td>0.125015</td>\n",
              "      <td>1.0</td>\n",
              "    </tr>\n",
              "    <tr>\n",
              "      <th>5</th>\n",
              "      <td>274 days</td>\n",
              "      <td>1.323481e+10</td>\n",
              "      <td>115042.660276</td>\n",
              "      <td>115042.660276</td>\n",
              "      <td>0.089156</td>\n",
              "      <td>0.089156</td>\n",
              "      <td>0.085351</td>\n",
              "      <td>1.0</td>\n",
              "    </tr>\n",
              "    <tr>\n",
              "      <th>6</th>\n",
              "      <td>304 days</td>\n",
              "      <td>4.127225e+09</td>\n",
              "      <td>64243.484941</td>\n",
              "      <td>64243.484941</td>\n",
              "      <td>0.049749</td>\n",
              "      <td>0.049749</td>\n",
              "      <td>0.051018</td>\n",
              "      <td>1.0</td>\n",
              "    </tr>\n",
              "    <tr>\n",
              "      <th>7</th>\n",
              "      <td>335 days</td>\n",
              "      <td>2.987329e+09</td>\n",
              "      <td>54656.460168</td>\n",
              "      <td>54656.460168</td>\n",
              "      <td>0.043284</td>\n",
              "      <td>0.043284</td>\n",
              "      <td>0.044241</td>\n",
              "      <td>1.0</td>\n",
              "    </tr>\n",
              "    <tr>\n",
              "      <th>8</th>\n",
              "      <td>365 days</td>\n",
              "      <td>3.063321e+09</td>\n",
              "      <td>55347.280648</td>\n",
              "      <td>55347.280648</td>\n",
              "      <td>0.046604</td>\n",
              "      <td>0.046604</td>\n",
              "      <td>0.047716</td>\n",
              "      <td>1.0</td>\n",
              "    </tr>\n",
              "  </tbody>\n",
              "</table>\n",
              "</div>\n",
              "      <button class=\"colab-df-convert\" onclick=\"convertToInteractive('df-8ecd5263-a225-4ed6-9c25-7dccc5db8309')\"\n",
              "              title=\"Convert this dataframe to an interactive table.\"\n",
              "              style=\"display:none;\">\n",
              "        \n",
              "  <svg xmlns=\"http://www.w3.org/2000/svg\" height=\"24px\"viewBox=\"0 0 24 24\"\n",
              "       width=\"24px\">\n",
              "    <path d=\"M0 0h24v24H0V0z\" fill=\"none\"/>\n",
              "    <path d=\"M18.56 5.44l.94 2.06.94-2.06 2.06-.94-2.06-.94-.94-2.06-.94 2.06-2.06.94zm-11 1L8.5 8.5l.94-2.06 2.06-.94-2.06-.94L8.5 2.5l-.94 2.06-2.06.94zm10 10l.94 2.06.94-2.06 2.06-.94-2.06-.94-.94-2.06-.94 2.06-2.06.94z\"/><path d=\"M17.41 7.96l-1.37-1.37c-.4-.4-.92-.59-1.43-.59-.52 0-1.04.2-1.43.59L10.3 9.45l-7.72 7.72c-.78.78-.78 2.05 0 2.83L4 21.41c.39.39.9.59 1.41.59.51 0 1.02-.2 1.41-.59l7.78-7.78 2.81-2.81c.8-.78.8-2.07 0-2.86zM5.41 20L4 18.59l7.72-7.72 1.47 1.35L5.41 20z\"/>\n",
              "  </svg>\n",
              "      </button>\n",
              "      \n",
              "  <style>\n",
              "    .colab-df-container {\n",
              "      display:flex;\n",
              "      flex-wrap:wrap;\n",
              "      gap: 12px;\n",
              "    }\n",
              "\n",
              "    .colab-df-convert {\n",
              "      background-color: #E8F0FE;\n",
              "      border: none;\n",
              "      border-radius: 50%;\n",
              "      cursor: pointer;\n",
              "      display: none;\n",
              "      fill: #1967D2;\n",
              "      height: 32px;\n",
              "      padding: 0 0 0 0;\n",
              "      width: 32px;\n",
              "    }\n",
              "\n",
              "    .colab-df-convert:hover {\n",
              "      background-color: #E2EBFA;\n",
              "      box-shadow: 0px 1px 2px rgba(60, 64, 67, 0.3), 0px 1px 3px 1px rgba(60, 64, 67, 0.15);\n",
              "      fill: #174EA6;\n",
              "    }\n",
              "\n",
              "    [theme=dark] .colab-df-convert {\n",
              "      background-color: #3B4455;\n",
              "      fill: #D2E3FC;\n",
              "    }\n",
              "\n",
              "    [theme=dark] .colab-df-convert:hover {\n",
              "      background-color: #434B5C;\n",
              "      box-shadow: 0px 1px 3px 1px rgba(0, 0, 0, 0.15);\n",
              "      filter: drop-shadow(0px 1px 2px rgba(0, 0, 0, 0.3));\n",
              "      fill: #FFFFFF;\n",
              "    }\n",
              "  </style>\n",
              "\n",
              "      <script>\n",
              "        const buttonEl =\n",
              "          document.querySelector('#df-8ecd5263-a225-4ed6-9c25-7dccc5db8309 button.colab-df-convert');\n",
              "        buttonEl.style.display =\n",
              "          google.colab.kernel.accessAllowed ? 'block' : 'none';\n",
              "\n",
              "        async function convertToInteractive(key) {\n",
              "          const element = document.querySelector('#df-8ecd5263-a225-4ed6-9c25-7dccc5db8309');\n",
              "          const dataTable =\n",
              "            await google.colab.kernel.invokeFunction('convertToInteractive',\n",
              "                                                     [key], {});\n",
              "          if (!dataTable) return;\n",
              "\n",
              "          const docLinkHtml = 'Like what you see? Visit the ' +\n",
              "            '<a target=\"_blank\" href=https://colab.research.google.com/notebooks/data_table.ipynb>data table notebook</a>'\n",
              "            + ' to learn more about interactive tables.';\n",
              "          element.innerHTML = '';\n",
              "          dataTable['output_type'] = 'display_data';\n",
              "          await google.colab.output.renderOutput(dataTable, element);\n",
              "          const docLink = document.createElement('div');\n",
              "          docLink.innerHTML = docLinkHtml;\n",
              "          element.appendChild(docLink);\n",
              "        }\n",
              "      </script>\n",
              "    </div>\n",
              "  </div>\n",
              "  "
            ]
          },
          "metadata": {},
          "execution_count": 38
        }
      ]
    },
    {
      "cell_type": "code",
      "source": [
        "figure = plot_cross_validation_metric(df_cv, metric = \"mape\")"
      ],
      "metadata": {
        "colab": {
          "base_uri": "https://localhost:8080/",
          "height": 477
        },
        "id": "w4SgmvoTlPqh",
        "outputId": "a497798a-433e-44c8-a1d2-59d5b077c5a7"
      },
      "execution_count": null,
      "outputs": [
        {
          "output_type": "stream",
          "name": "stderr",
          "text": [
            "/usr/local/lib/python3.7/dist-packages/prophet/plot.py:539: FutureWarning: casting timedelta64[ns] values to int64 with .astype(...) is deprecated and will raise in a future version. Use .view(...) instead.\n",
            "  x_plt = df_none['horizon'].astype('timedelta64[ns]').astype(np.int64) / float(dt_conversions[i])\n",
            "/usr/local/lib/python3.7/dist-packages/prophet/plot.py:540: FutureWarning: casting timedelta64[ns] values to int64 with .astype(...) is deprecated and will raise in a future version. Use .view(...) instead.\n",
            "  x_plt_h = df_h['horizon'].astype('timedelta64[ns]').astype(np.int64) / float(dt_conversions[i])\n"
          ]
        },
        {
          "output_type": "display_data",
          "data": {
            "text/plain": [
              "<Figure size 720x432 with 1 Axes>"
            ],
            "image/png": "[encoded data removed]"
          },
          "metadata": {}
        }
      ]
    }
  ]
}